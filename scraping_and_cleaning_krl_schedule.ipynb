{
  "cells": [
    {
      "cell_type": "markdown",
      "metadata": {
        "id": "5vxZ4FiCKdcM"
      },
      "source": [
        "# Scrape and Clean Commuter Line Jabodetabek Schedule"
      ]
    },
    {
      "cell_type": "markdown",
      "metadata": {
        "id": "KXJ9NSvOKdcN"
      },
      "source": [
        "By Denny Dewanta"
      ]
    },
    {
      "cell_type": "markdown",
      "metadata": {
        "id": "uD2YswizKdcO"
      },
      "source": [
        "This project aims to scrape the Commuter Line Jabodetabek schedule from KAI Commuter Line API. Actually the API is currently open for public, so everyone can get the schedule data without any requirement needed. The data scraping including data as of March 24th 2024."
      ]
    },
    {
      "cell_type": "markdown",
      "metadata": {
        "id": "ub4F8WlbKdcO"
      },
      "source": [
        "## Import Libraries and Data"
      ]
    },
    {
      "cell_type": "code",
      "execution_count": 44,
      "metadata": {
        "id": "j8y19XDozA3E",
        "colab": {
          "base_uri": "https://localhost:8080/"
        },
        "outputId": "7b2bc2d7-ec20-4546-d22d-723fb2e091b3"
      },
      "outputs": [
        {
          "output_type": "stream",
          "name": "stdout",
          "text": [
            "Drive already mounted at /content/drive; to attempt to forcibly remount, call drive.mount(\"/content/drive\", force_remount=True).\n"
          ]
        }
      ],
      "source": [
        "import requests\n",
        "import pandas as pd\n",
        "from google.colab import drive\n",
        "drive.mount('/content/drive')"
      ]
    },
    {
      "cell_type": "markdown",
      "metadata": {
        "id": "UkTUM71oKdcO"
      },
      "source": [
        "We still need a 'dictionary' to scrape the data by using the station_id. I just made a dimension table to be our 'dictionary' to call the data. The station_id and station_name information are gathered from some trusted websites (actually we can't get the station_id officially sadly)."
      ]
    },
    {
      "cell_type": "code",
      "execution_count": 45,
      "metadata": {
        "colab": {
          "base_uri": "https://localhost:8080/",
          "height": 206
        },
        "id": "zHNmx8UA-lpX",
        "outputId": "6e9aa36b-d553-4f28-b414-6361d5a2a15a"
      },
      "outputs": [
        {
          "output_type": "execute_result",
          "data": {
            "text/plain": [
              "  station_id  station_name\n",
              "0         AC         ANCOL\n",
              "1         AK         ANGKE\n",
              "2        BJD    BOJONGGEDE\n",
              "3        BKS        BEKASI\n",
              "4        BOI  BOJONG INDAH"
            ],
            "text/html": [
              "\n",
              "  <div id=\"df-7d233922-829c-411a-b1c1-0270d1d2b500\" class=\"colab-df-container\">\n",
              "    <div>\n",
              "<style scoped>\n",
              "    .dataframe tbody tr th:only-of-type {\n",
              "        vertical-align: middle;\n",
              "    }\n",
              "\n",
              "    .dataframe tbody tr th {\n",
              "        vertical-align: top;\n",
              "    }\n",
              "\n",
              "    .dataframe thead th {\n",
              "        text-align: right;\n",
              "    }\n",
              "</style>\n",
              "<table border=\"1\" class=\"dataframe\">\n",
              "  <thead>\n",
              "    <tr style=\"text-align: right;\">\n",
              "      <th></th>\n",
              "      <th>station_id</th>\n",
              "      <th>station_name</th>\n",
              "    </tr>\n",
              "  </thead>\n",
              "  <tbody>\n",
              "    <tr>\n",
              "      <th>0</th>\n",
              "      <td>AC</td>\n",
              "      <td>ANCOL</td>\n",
              "    </tr>\n",
              "    <tr>\n",
              "      <th>1</th>\n",
              "      <td>AK</td>\n",
              "      <td>ANGKE</td>\n",
              "    </tr>\n",
              "    <tr>\n",
              "      <th>2</th>\n",
              "      <td>BJD</td>\n",
              "      <td>BOJONGGEDE</td>\n",
              "    </tr>\n",
              "    <tr>\n",
              "      <th>3</th>\n",
              "      <td>BKS</td>\n",
              "      <td>BEKASI</td>\n",
              "    </tr>\n",
              "    <tr>\n",
              "      <th>4</th>\n",
              "      <td>BOI</td>\n",
              "      <td>BOJONG INDAH</td>\n",
              "    </tr>\n",
              "  </tbody>\n",
              "</table>\n",
              "</div>\n",
              "    <div class=\"colab-df-buttons\">\n",
              "\n",
              "  <div class=\"colab-df-container\">\n",
              "    <button class=\"colab-df-convert\" onclick=\"convertToInteractive('df-7d233922-829c-411a-b1c1-0270d1d2b500')\"\n",
              "            title=\"Convert this dataframe to an interactive table.\"\n",
              "            style=\"display:none;\">\n",
              "\n",
              "  <svg xmlns=\"http://www.w3.org/2000/svg\" height=\"24px\" viewBox=\"0 -960 960 960\">\n",
              "    <path d=\"M120-120v-720h720v720H120Zm60-500h600v-160H180v160Zm220 220h160v-160H400v160Zm0 220h160v-160H400v160ZM180-400h160v-160H180v160Zm440 0h160v-160H620v160ZM180-180h160v-160H180v160Zm440 0h160v-160H620v160Z\"/>\n",
              "  </svg>\n",
              "    </button>\n",
              "\n",
              "  <style>\n",
              "    .colab-df-container {\n",
              "      display:flex;\n",
              "      gap: 12px;\n",
              "    }\n",
              "\n",
              "    .colab-df-convert {\n",
              "      background-color: #E8F0FE;\n",
              "      border: none;\n",
              "      border-radius: 50%;\n",
              "      cursor: pointer;\n",
              "      display: none;\n",
              "      fill: #1967D2;\n",
              "      height: 32px;\n",
              "      padding: 0 0 0 0;\n",
              "      width: 32px;\n",
              "    }\n",
              "\n",
              "    .colab-df-convert:hover {\n",
              "      background-color: #E2EBFA;\n",
              "      box-shadow: 0px 1px 2px rgba(60, 64, 67, 0.3), 0px 1px 3px 1px rgba(60, 64, 67, 0.15);\n",
              "      fill: #174EA6;\n",
              "    }\n",
              "\n",
              "    .colab-df-buttons div {\n",
              "      margin-bottom: 4px;\n",
              "    }\n",
              "\n",
              "    [theme=dark] .colab-df-convert {\n",
              "      background-color: #3B4455;\n",
              "      fill: #D2E3FC;\n",
              "    }\n",
              "\n",
              "    [theme=dark] .colab-df-convert:hover {\n",
              "      background-color: #434B5C;\n",
              "      box-shadow: 0px 1px 3px 1px rgba(0, 0, 0, 0.15);\n",
              "      filter: drop-shadow(0px 1px 2px rgba(0, 0, 0, 0.3));\n",
              "      fill: #FFFFFF;\n",
              "    }\n",
              "  </style>\n",
              "\n",
              "    <script>\n",
              "      const buttonEl =\n",
              "        document.querySelector('#df-7d233922-829c-411a-b1c1-0270d1d2b500 button.colab-df-convert');\n",
              "      buttonEl.style.display =\n",
              "        google.colab.kernel.accessAllowed ? 'block' : 'none';\n",
              "\n",
              "      async function convertToInteractive(key) {\n",
              "        const element = document.querySelector('#df-7d233922-829c-411a-b1c1-0270d1d2b500');\n",
              "        const dataTable =\n",
              "          await google.colab.kernel.invokeFunction('convertToInteractive',\n",
              "                                                    [key], {});\n",
              "        if (!dataTable) return;\n",
              "\n",
              "        const docLinkHtml = 'Like what you see? Visit the ' +\n",
              "          '<a target=\"_blank\" href=https://colab.research.google.com/notebooks/data_table.ipynb>data table notebook</a>'\n",
              "          + ' to learn more about interactive tables.';\n",
              "        element.innerHTML = '';\n",
              "        dataTable['output_type'] = 'display_data';\n",
              "        await google.colab.output.renderOutput(dataTable, element);\n",
              "        const docLink = document.createElement('div');\n",
              "        docLink.innerHTML = docLinkHtml;\n",
              "        element.appendChild(docLink);\n",
              "      }\n",
              "    </script>\n",
              "  </div>\n",
              "\n",
              "\n",
              "<div id=\"df-794c1f52-e2b2-4284-8cf6-ff7eb323fceb\">\n",
              "  <button class=\"colab-df-quickchart\" onclick=\"quickchart('df-794c1f52-e2b2-4284-8cf6-ff7eb323fceb')\"\n",
              "            title=\"Suggest charts\"\n",
              "            style=\"display:none;\">\n",
              "\n",
              "<svg xmlns=\"http://www.w3.org/2000/svg\" height=\"24px\"viewBox=\"0 0 24 24\"\n",
              "     width=\"24px\">\n",
              "    <g>\n",
              "        <path d=\"M19 3H5c-1.1 0-2 .9-2 2v14c0 1.1.9 2 2 2h14c1.1 0 2-.9 2-2V5c0-1.1-.9-2-2-2zM9 17H7v-7h2v7zm4 0h-2V7h2v10zm4 0h-2v-4h2v4z\"/>\n",
              "    </g>\n",
              "</svg>\n",
              "  </button>\n",
              "\n",
              "<style>\n",
              "  .colab-df-quickchart {\n",
              "      --bg-color: #E8F0FE;\n",
              "      --fill-color: #1967D2;\n",
              "      --hover-bg-color: #E2EBFA;\n",
              "      --hover-fill-color: #174EA6;\n",
              "      --disabled-fill-color: #AAA;\n",
              "      --disabled-bg-color: #DDD;\n",
              "  }\n",
              "\n",
              "  [theme=dark] .colab-df-quickchart {\n",
              "      --bg-color: #3B4455;\n",
              "      --fill-color: #D2E3FC;\n",
              "      --hover-bg-color: #434B5C;\n",
              "      --hover-fill-color: #FFFFFF;\n",
              "      --disabled-bg-color: #3B4455;\n",
              "      --disabled-fill-color: #666;\n",
              "  }\n",
              "\n",
              "  .colab-df-quickchart {\n",
              "    background-color: var(--bg-color);\n",
              "    border: none;\n",
              "    border-radius: 50%;\n",
              "    cursor: pointer;\n",
              "    display: none;\n",
              "    fill: var(--fill-color);\n",
              "    height: 32px;\n",
              "    padding: 0;\n",
              "    width: 32px;\n",
              "  }\n",
              "\n",
              "  .colab-df-quickchart:hover {\n",
              "    background-color: var(--hover-bg-color);\n",
              "    box-shadow: 0 1px 2px rgba(60, 64, 67, 0.3), 0 1px 3px 1px rgba(60, 64, 67, 0.15);\n",
              "    fill: var(--button-hover-fill-color);\n",
              "  }\n",
              "\n",
              "  .colab-df-quickchart-complete:disabled,\n",
              "  .colab-df-quickchart-complete:disabled:hover {\n",
              "    background-color: var(--disabled-bg-color);\n",
              "    fill: var(--disabled-fill-color);\n",
              "    box-shadow: none;\n",
              "  }\n",
              "\n",
              "  .colab-df-spinner {\n",
              "    border: 2px solid var(--fill-color);\n",
              "    border-color: transparent;\n",
              "    border-bottom-color: var(--fill-color);\n",
              "    animation:\n",
              "      spin 1s steps(1) infinite;\n",
              "  }\n",
              "\n",
              "  @keyframes spin {\n",
              "    0% {\n",
              "      border-color: transparent;\n",
              "      border-bottom-color: var(--fill-color);\n",
              "      border-left-color: var(--fill-color);\n",
              "    }\n",
              "    20% {\n",
              "      border-color: transparent;\n",
              "      border-left-color: var(--fill-color);\n",
              "      border-top-color: var(--fill-color);\n",
              "    }\n",
              "    30% {\n",
              "      border-color: transparent;\n",
              "      border-left-color: var(--fill-color);\n",
              "      border-top-color: var(--fill-color);\n",
              "      border-right-color: var(--fill-color);\n",
              "    }\n",
              "    40% {\n",
              "      border-color: transparent;\n",
              "      border-right-color: var(--fill-color);\n",
              "      border-top-color: var(--fill-color);\n",
              "    }\n",
              "    60% {\n",
              "      border-color: transparent;\n",
              "      border-right-color: var(--fill-color);\n",
              "    }\n",
              "    80% {\n",
              "      border-color: transparent;\n",
              "      border-right-color: var(--fill-color);\n",
              "      border-bottom-color: var(--fill-color);\n",
              "    }\n",
              "    90% {\n",
              "      border-color: transparent;\n",
              "      border-bottom-color: var(--fill-color);\n",
              "    }\n",
              "  }\n",
              "</style>\n",
              "\n",
              "  <script>\n",
              "    async function quickchart(key) {\n",
              "      const quickchartButtonEl =\n",
              "        document.querySelector('#' + key + ' button');\n",
              "      quickchartButtonEl.disabled = true;  // To prevent multiple clicks.\n",
              "      quickchartButtonEl.classList.add('colab-df-spinner');\n",
              "      try {\n",
              "        const charts = await google.colab.kernel.invokeFunction(\n",
              "            'suggestCharts', [key], {});\n",
              "      } catch (error) {\n",
              "        console.error('Error during call to suggestCharts:', error);\n",
              "      }\n",
              "      quickchartButtonEl.classList.remove('colab-df-spinner');\n",
              "      quickchartButtonEl.classList.add('colab-df-quickchart-complete');\n",
              "    }\n",
              "    (() => {\n",
              "      let quickchartButtonEl =\n",
              "        document.querySelector('#df-794c1f52-e2b2-4284-8cf6-ff7eb323fceb button');\n",
              "      quickchartButtonEl.style.display =\n",
              "        google.colab.kernel.accessAllowed ? 'block' : 'none';\n",
              "    })();\n",
              "  </script>\n",
              "</div>\n",
              "    </div>\n",
              "  </div>\n"
            ],
            "application/vnd.google.colaboratory.intrinsic+json": {
              "type": "dataframe",
              "variable_name": "dim_station",
              "summary": "{\n  \"name\": \"dim_station\",\n  \"rows\": 82,\n  \"fields\": [\n    {\n      \"column\": \"station_id\",\n      \"properties\": {\n        \"dtype\": \"string\",\n        \"num_unique_values\": 82,\n        \"samples\": [\n          \"KLD\",\n          \"AC\",\n          \"JAKK\"\n        ],\n        \"semantic_type\": \"\",\n        \"description\": \"\"\n      }\n    },\n    {\n      \"column\": \"station_name\",\n      \"properties\": {\n        \"dtype\": \"string\",\n        \"num_unique_values\": 82,\n        \"samples\": [\n          \"KLENDER\",\n          \"ANCOL\",\n          \"JAKARTAKOTA\"\n        ],\n        \"semantic_type\": \"\",\n        \"description\": \"\"\n      }\n    }\n  ]\n}"
            }
          },
          "metadata": {},
          "execution_count": 45
        }
      ],
      "source": [
        "dim_station = pd.read_csv('dim_station.csv')\n",
        "dim_station.head()"
      ]
    },
    {
      "cell_type": "markdown",
      "metadata": {
        "id": "tNoDWLXSKdcP"
      },
      "source": [
        "## Functions"
      ]
    },
    {
      "cell_type": "code",
      "execution_count": 46,
      "metadata": {
        "id": "b6WOHvdrzFGd"
      },
      "outputs": [],
      "source": [
        "def get_data(station_id, station_name):\n",
        "  # URL of the API\n",
        "  url = f'https://api-partner.krl.co.id/krlweb/v1/schedule?stationid={station_id}&timefrom=01:00&timeto=24:00'\n",
        "\n",
        "  # Send a GET request to the API\n",
        "  response = requests.get(url)\n",
        "\n",
        "  # Initialize an empty list to store each row of data\n",
        "  data_rows = []\n",
        "\n",
        "  # Check if the request was successful\n",
        "  if response.status_code == 200:\n",
        "      # Parse the JSON response\n",
        "      data = response.json()\n",
        "\n",
        "      # Check if the status in the JSON response is 200\n",
        "      if data['status'] == 200:\n",
        "          # Loop through each item in the data list\n",
        "          for item in data['data']:\n",
        "              # Append each item (as a dict) to the data_rows list\n",
        "              data_rows.append(item)\n",
        "\n",
        "          # Create a DataFrame from the list of dicts\n",
        "          df = pd.DataFrame(data_rows)\n",
        "      else:\n",
        "          print('Error: The response from the API was not successful.')\n",
        "  else:\n",
        "      print('Error: Failed to retrieve data from the API.')\n",
        "\n",
        "  return df"
      ]
    },
    {
      "cell_type": "markdown",
      "metadata": {
        "id": "zjhBpiKTKdcP"
      },
      "source": [
        "## Data Scraping"
      ]
    },
    {
      "cell_type": "markdown",
      "metadata": {
        "id": "ILXapwH9KdcP"
      },
      "source": []
    },
    {
      "cell_type": "code",
      "execution_count": 47,
      "metadata": {
        "id": "F1W_Hsc8CfEX"
      },
      "outputs": [],
      "source": [
        "# Create an empty DataFrame for collecting all results\n",
        "df = pd.DataFrame()\n",
        "\n",
        "# Create an empty DataFrame for collecting failed station attempts\n",
        "failed_stations = pd.DataFrame(columns=['station_id', 'station_name'])"
      ]
    },
    {
      "cell_type": "code",
      "execution_count": 48,
      "metadata": {
        "colab": {
          "base_uri": "https://localhost:8080/"
        },
        "id": "ShlY-dp0-yNF",
        "outputId": "b7a34e79-2455-43cd-d315-7916e8b4e323"
      },
      "outputs": [
        {
          "output_type": "stream",
          "name": "stdout",
          "text": [
            "Error: Failed to retrieve data from the API.\n"
          ]
        }
      ],
      "source": [
        "# First pass: Attempt to scrape data for all stations\n",
        "for index, row in dim_station.iterrows():\n",
        "    try:\n",
        "        # Attempt to scrape data for the station\n",
        "        station_data = get_data(row['station_id'], row['station_name'])\n",
        "\n",
        "        # Add a new column to flag the station name\n",
        "        station_data['station_departure_name'] = row['station_name']\n",
        "        station_data['station_departure_id'] = row['station_id']\n",
        "\n",
        "        # Append the results to the df DataFrame\n",
        "        df = pd.concat([df, station_data], ignore_index=True)\n",
        "    except Exception as e:\n",
        "        # If scraping fails, append the station to the failed_stations DataFrame\n",
        "        failed_stations = pd.concat([failed_stations, pd.DataFrame({'station_id': [row['station_id']],\n",
        "                                                                    'station_name': [row['station_name']]})],\n",
        "                                    ignore_index=True)"
      ]
    },
    {
      "cell_type": "code",
      "execution_count": 49,
      "metadata": {
        "id": "rYugEpiFHNLt",
        "colab": {
          "base_uri": "https://localhost:8080/"
        },
        "outputId": "e210af11-ffcd-407f-b2e7-4c69aa806861"
      },
      "outputs": [
        {
          "output_type": "stream",
          "name": "stdout",
          "text": [
            "Error: Failed to retrieve data from the API.\n",
            "Failed to scrape data for station ID GMR on second attempt.\n"
          ]
        }
      ],
      "source": [
        "# Second pass: Attempt to scrape data for stations that failed in the first pass\n",
        "for index, row in failed_stations.iterrows():\n",
        "    try:\n",
        "        # Attempt to scrape data again for the station\n",
        "        station_data = get_data(row['station_id'], row['station_name'])\n",
        "\n",
        "        # Add a new column to flag the station name\n",
        "        station_data['station_departure_name'] = row['station_name']\n",
        "        station_data['station_departure_id'] = row['station_id']\n",
        "\n",
        "        # Append the results to the df DataFrame\n",
        "        df = pd.concat([df, station_data], ignore_index=True)\n",
        "    except Exception as e:\n",
        "        # If scraping fails again, print warning to check whether if the station_id wrong or anything\n",
        "        print(f\"Failed to scrape data for station ID {row['station_id']} on second attempt.\")"
      ]
    },
    {
      "cell_type": "markdown",
      "source": [
        "## Data Cleaning"
      ],
      "metadata": {
        "id": "ahjmpPRFKp-U"
      }
    },
    {
      "cell_type": "code",
      "execution_count": 50,
      "metadata": {
        "id": "GsKd_ytAHxEb"
      },
      "outputs": [],
      "source": [
        "df.rename(columns={'dest': 'station_destination_name'}, inplace=True)"
      ]
    },
    {
      "cell_type": "code",
      "execution_count": 51,
      "metadata": {
        "colab": {
          "base_uri": "https://localhost:8080/"
        },
        "id": "Elk9inGQDjFJ",
        "outputId": "f57cd2e9-20cf-4f5d-c9a5-e25aaa0dcdb6"
      },
      "outputs": [
        {
          "output_type": "stream",
          "name": "stdout",
          "text": [
            "Missing data for station IDs:\n",
            "['GMR']\n"
          ]
        }
      ],
      "source": [
        "# Find station_ids in dim_station that are not in all_stations_data\n",
        "missing_station_ids = dim_station[~dim_station['station_id'].isin(df['station_departure_id'])]\n",
        "\n",
        "# Print out the missing station_ids\n",
        "if missing_station_ids.empty:\n",
        "    print(\"All station data is complete.\")\n",
        "else:\n",
        "    print(\"Missing data for station IDs:\")\n",
        "    print(missing_station_ids['station_id'].to_list())"
      ]
    },
    {
      "cell_type": "markdown",
      "source": [
        "Because GAMBIR currently not serving commuter line anymore, we can skip that."
      ],
      "metadata": {
        "id": "XYG5IqusYKej"
      }
    },
    {
      "cell_type": "code",
      "execution_count": 52,
      "metadata": {
        "colab": {
          "base_uri": "https://localhost:8080/"
        },
        "id": "LTJE9CGwygu0",
        "outputId": "a9162c64-fed6-478e-e140-4353cf41e6c3"
      },
      "outputs": [
        {
          "output_type": "stream",
          "name": "stdout",
          "text": [
            "['TANJUNGPRIUK' 'JAKARTAKOTA' 'KAMPUNGBANDAN' 'BEKASI' 'MANGGARAI'\n",
            " 'TAMBUN' 'CIKARANG' 'BOGOR' 'DEPOK' 'ANGKE' 'DURI' 'TANGERANG'\n",
            " 'BANDARASOEKARNOHATTA' 'TANAHABANG' 'PARUNGPANJANG' 'RANGKASBITUNG'\n",
            " 'TIGARAKSA' 'SERPONG' 'NAMBO' 'BOJONGGEDE' 'TANAH ABANG' 'MERAK']\n"
          ]
        }
      ],
      "source": [
        "unique_destinations = df['station_destination_name'].unique()\n",
        "print(unique_destinations)"
      ]
    },
    {
      "cell_type": "markdown",
      "source": [
        "Now, we want to remove the KA Bandara & local train to MERAK schedules to ensure our data consisted of commuter line data only."
      ],
      "metadata": {
        "id": "evXsc_K_M6Yj"
      }
    },
    {
      "cell_type": "code",
      "execution_count": 53,
      "metadata": {
        "id": "GkI2miK4GKap"
      },
      "outputs": [],
      "source": [
        "df = df[~df['station_destination_name'].isin(['BANDARASOEKARNOHATTA', 'MERAK'])]"
      ]
    },
    {
      "cell_type": "markdown",
      "source": [
        "Since, there is different naming for TANAHABANG, we can just follow the majority format that is not using space in station_destination_name. We can rename 'TANAH ABANG' to 'TANAHABANG'"
      ],
      "metadata": {
        "id": "v1EKeMMUNGEe"
      }
    },
    {
      "cell_type": "code",
      "source": [
        "df['station_destination_name'] = df['station_destination_name'].replace('TANAH ABANG', 'TANAHABANG')"
      ],
      "metadata": {
        "id": "YBFDgu22M2G0"
      },
      "execution_count": 54,
      "outputs": []
    },
    {
      "cell_type": "code",
      "source": [
        "df.info()"
      ],
      "metadata": {
        "colab": {
          "base_uri": "https://localhost:8080/"
        },
        "id": "sdtBmmxMPWm4",
        "outputId": "fa1c574a-b13d-4ba9-8564-58c8471fa2e9"
      },
      "execution_count": 55,
      "outputs": [
        {
          "output_type": "stream",
          "name": "stdout",
          "text": [
            "<class 'pandas.core.frame.DataFrame'>\n",
            "Int64Index: 17073 entries, 0 to 17303\n",
            "Data columns (total 9 columns):\n",
            " #   Column                    Non-Null Count  Dtype \n",
            "---  ------                    --------------  ----- \n",
            " 0   train_id                  17073 non-null  object\n",
            " 1   ka_name                   17073 non-null  object\n",
            " 2   route_name                17073 non-null  object\n",
            " 3   station_destination_name  17073 non-null  object\n",
            " 4   time_est                  17073 non-null  object\n",
            " 5   color                     17073 non-null  object\n",
            " 6   dest_time                 17073 non-null  object\n",
            " 7   station_departure_name    17073 non-null  object\n",
            " 8   station_departure_id      17073 non-null  object\n",
            "dtypes: object(9)\n",
            "memory usage: 1.3+ MB\n"
          ]
        }
      ]
    },
    {
      "cell_type": "code",
      "source": [
        "# Perform the left join\n",
        "df = pd.merge(left=df, right=dim_station, how='left', left_on='station_destination_name', right_on='station_name')\n",
        "\n",
        "# Drop the redundant station_name column after the merge\n",
        "df.drop('station_name', axis=1, inplace=True)"
      ],
      "metadata": {
        "id": "84MgxdFVPXQz"
      },
      "execution_count": 56,
      "outputs": []
    },
    {
      "cell_type": "code",
      "source": [
        "df.rename(columns={'station_id': 'station_destination_id'}, inplace=True)"
      ],
      "metadata": {
        "id": "ak-egvkgP-PX"
      },
      "execution_count": 57,
      "outputs": []
    },
    {
      "cell_type": "markdown",
      "source": [
        "Renaming the fields and add _utc7 just to ensure that the fields' name are consistent and giving you the timezone information as well. Anyway, at first I would like to use \"arrival\" to the dest_time but it sounds ambiguous :/"
      ],
      "metadata": {
        "id": "9Oh-bkRYRjBr"
      }
    },
    {
      "cell_type": "code",
      "source": [
        "df.rename(columns={'time_est': 'departure_time_utc7'}, inplace=True)\n",
        "df.rename(columns={'dest_time': 'destination_time_utc7'}, inplace=True)"
      ],
      "metadata": {
        "id": "zE8aEkRPQwxY"
      },
      "execution_count": 58,
      "outputs": []
    },
    {
      "cell_type": "markdown",
      "source": [
        "Renaming the ka_name field because it sounds silly lol."
      ],
      "metadata": {
        "id": "sxlsGG07S0DQ"
      }
    },
    {
      "cell_type": "code",
      "source": [
        "df.rename(columns={'ka_name': 'train_name'}, inplace=True)"
      ],
      "metadata": {
        "id": "xEzwpj9XSqPj"
      },
      "execution_count": 59,
      "outputs": []
    },
    {
      "cell_type": "code",
      "source": [
        "df.head()"
      ],
      "metadata": {
        "colab": {
          "base_uri": "https://localhost:8080/",
          "height": 399
        },
        "id": "Bths4MCTQLJZ",
        "outputId": "b1e2d8a0-f878-4c57-80bd-7eef21c8d7da"
      },
      "execution_count": 60,
      "outputs": [
        {
          "output_type": "execute_result",
          "data": {
            "text/plain": [
              "  train_id                  train_name                route_name  \\\n",
              "0     2400  COMMUTER LINE TANJUNGPRIUK  JAKARTAKOTA-TANJUNGPRIUK   \n",
              "1     2402  COMMUTER LINE TANJUNGPRIUK  JAKARTAKOTA-TANJUNGPRIUK   \n",
              "2     2401  COMMUTER LINE TANJUNGPRIUK  TANJUNGPRIUK-JAKARTAKOTA   \n",
              "3     2404  COMMUTER LINE TANJUNGPRIUK  JAKARTAKOTA-TANJUNGPRIUK   \n",
              "4     2403  COMMUTER LINE TANJUNGPRIUK  TANJUNGPRIUK-JAKARTAKOTA   \n",
              "\n",
              "  station_destination_name departure_time_utc7    color destination_time_utc7  \\\n",
              "0             TANJUNGPRIUK            06:07:00  #DD0067              06:16:00   \n",
              "1             TANJUNGPRIUK            06:24:00  #DD0067              06:33:00   \n",
              "2              JAKARTAKOTA            06:34:00  #DD0067              06:42:00   \n",
              "3             TANJUNGPRIUK            06:43:00  #DD0067              06:52:00   \n",
              "4              JAKARTAKOTA            06:50:00  #DD0067              06:58:00   \n",
              "\n",
              "  station_departure_name station_departure_id station_destination_id  \n",
              "0                  ANCOL                   AC                    TPK  \n",
              "1                  ANCOL                   AC                    TPK  \n",
              "2                  ANCOL                   AC                   JAKK  \n",
              "3                  ANCOL                   AC                    TPK  \n",
              "4                  ANCOL                   AC                   JAKK  "
            ],
            "text/html": [
              "\n",
              "  <div id=\"df-ba4f0a30-3e5a-4020-9b7f-d362bc66332a\" class=\"colab-df-container\">\n",
              "    <div>\n",
              "<style scoped>\n",
              "    .dataframe tbody tr th:only-of-type {\n",
              "        vertical-align: middle;\n",
              "    }\n",
              "\n",
              "    .dataframe tbody tr th {\n",
              "        vertical-align: top;\n",
              "    }\n",
              "\n",
              "    .dataframe thead th {\n",
              "        text-align: right;\n",
              "    }\n",
              "</style>\n",
              "<table border=\"1\" class=\"dataframe\">\n",
              "  <thead>\n",
              "    <tr style=\"text-align: right;\">\n",
              "      <th></th>\n",
              "      <th>train_id</th>\n",
              "      <th>train_name</th>\n",
              "      <th>route_name</th>\n",
              "      <th>station_destination_name</th>\n",
              "      <th>departure_time_utc7</th>\n",
              "      <th>color</th>\n",
              "      <th>destination_time_utc7</th>\n",
              "      <th>station_departure_name</th>\n",
              "      <th>station_departure_id</th>\n",
              "      <th>station_destination_id</th>\n",
              "    </tr>\n",
              "  </thead>\n",
              "  <tbody>\n",
              "    <tr>\n",
              "      <th>0</th>\n",
              "      <td>2400</td>\n",
              "      <td>COMMUTER LINE TANJUNGPRIUK</td>\n",
              "      <td>JAKARTAKOTA-TANJUNGPRIUK</td>\n",
              "      <td>TANJUNGPRIUK</td>\n",
              "      <td>06:07:00</td>\n",
              "      <td>#DD0067</td>\n",
              "      <td>06:16:00</td>\n",
              "      <td>ANCOL</td>\n",
              "      <td>AC</td>\n",
              "      <td>TPK</td>\n",
              "    </tr>\n",
              "    <tr>\n",
              "      <th>1</th>\n",
              "      <td>2402</td>\n",
              "      <td>COMMUTER LINE TANJUNGPRIUK</td>\n",
              "      <td>JAKARTAKOTA-TANJUNGPRIUK</td>\n",
              "      <td>TANJUNGPRIUK</td>\n",
              "      <td>06:24:00</td>\n",
              "      <td>#DD0067</td>\n",
              "      <td>06:33:00</td>\n",
              "      <td>ANCOL</td>\n",
              "      <td>AC</td>\n",
              "      <td>TPK</td>\n",
              "    </tr>\n",
              "    <tr>\n",
              "      <th>2</th>\n",
              "      <td>2401</td>\n",
              "      <td>COMMUTER LINE TANJUNGPRIUK</td>\n",
              "      <td>TANJUNGPRIUK-JAKARTAKOTA</td>\n",
              "      <td>JAKARTAKOTA</td>\n",
              "      <td>06:34:00</td>\n",
              "      <td>#DD0067</td>\n",
              "      <td>06:42:00</td>\n",
              "      <td>ANCOL</td>\n",
              "      <td>AC</td>\n",
              "      <td>JAKK</td>\n",
              "    </tr>\n",
              "    <tr>\n",
              "      <th>3</th>\n",
              "      <td>2404</td>\n",
              "      <td>COMMUTER LINE TANJUNGPRIUK</td>\n",
              "      <td>JAKARTAKOTA-TANJUNGPRIUK</td>\n",
              "      <td>TANJUNGPRIUK</td>\n",
              "      <td>06:43:00</td>\n",
              "      <td>#DD0067</td>\n",
              "      <td>06:52:00</td>\n",
              "      <td>ANCOL</td>\n",
              "      <td>AC</td>\n",
              "      <td>TPK</td>\n",
              "    </tr>\n",
              "    <tr>\n",
              "      <th>4</th>\n",
              "      <td>2403</td>\n",
              "      <td>COMMUTER LINE TANJUNGPRIUK</td>\n",
              "      <td>TANJUNGPRIUK-JAKARTAKOTA</td>\n",
              "      <td>JAKARTAKOTA</td>\n",
              "      <td>06:50:00</td>\n",
              "      <td>#DD0067</td>\n",
              "      <td>06:58:00</td>\n",
              "      <td>ANCOL</td>\n",
              "      <td>AC</td>\n",
              "      <td>JAKK</td>\n",
              "    </tr>\n",
              "  </tbody>\n",
              "</table>\n",
              "</div>\n",
              "    <div class=\"colab-df-buttons\">\n",
              "\n",
              "  <div class=\"colab-df-container\">\n",
              "    <button class=\"colab-df-convert\" onclick=\"convertToInteractive('df-ba4f0a30-3e5a-4020-9b7f-d362bc66332a')\"\n",
              "            title=\"Convert this dataframe to an interactive table.\"\n",
              "            style=\"display:none;\">\n",
              "\n",
              "  <svg xmlns=\"http://www.w3.org/2000/svg\" height=\"24px\" viewBox=\"0 -960 960 960\">\n",
              "    <path d=\"M120-120v-720h720v720H120Zm60-500h600v-160H180v160Zm220 220h160v-160H400v160Zm0 220h160v-160H400v160ZM180-400h160v-160H180v160Zm440 0h160v-160H620v160ZM180-180h160v-160H180v160Zm440 0h160v-160H620v160Z\"/>\n",
              "  </svg>\n",
              "    </button>\n",
              "\n",
              "  <style>\n",
              "    .colab-df-container {\n",
              "      display:flex;\n",
              "      gap: 12px;\n",
              "    }\n",
              "\n",
              "    .colab-df-convert {\n",
              "      background-color: #E8F0FE;\n",
              "      border: none;\n",
              "      border-radius: 50%;\n",
              "      cursor: pointer;\n",
              "      display: none;\n",
              "      fill: #1967D2;\n",
              "      height: 32px;\n",
              "      padding: 0 0 0 0;\n",
              "      width: 32px;\n",
              "    }\n",
              "\n",
              "    .colab-df-convert:hover {\n",
              "      background-color: #E2EBFA;\n",
              "      box-shadow: 0px 1px 2px rgba(60, 64, 67, 0.3), 0px 1px 3px 1px rgba(60, 64, 67, 0.15);\n",
              "      fill: #174EA6;\n",
              "    }\n",
              "\n",
              "    .colab-df-buttons div {\n",
              "      margin-bottom: 4px;\n",
              "    }\n",
              "\n",
              "    [theme=dark] .colab-df-convert {\n",
              "      background-color: #3B4455;\n",
              "      fill: #D2E3FC;\n",
              "    }\n",
              "\n",
              "    [theme=dark] .colab-df-convert:hover {\n",
              "      background-color: #434B5C;\n",
              "      box-shadow: 0px 1px 3px 1px rgba(0, 0, 0, 0.15);\n",
              "      filter: drop-shadow(0px 1px 2px rgba(0, 0, 0, 0.3));\n",
              "      fill: #FFFFFF;\n",
              "    }\n",
              "  </style>\n",
              "\n",
              "    <script>\n",
              "      const buttonEl =\n",
              "        document.querySelector('#df-ba4f0a30-3e5a-4020-9b7f-d362bc66332a button.colab-df-convert');\n",
              "      buttonEl.style.display =\n",
              "        google.colab.kernel.accessAllowed ? 'block' : 'none';\n",
              "\n",
              "      async function convertToInteractive(key) {\n",
              "        const element = document.querySelector('#df-ba4f0a30-3e5a-4020-9b7f-d362bc66332a');\n",
              "        const dataTable =\n",
              "          await google.colab.kernel.invokeFunction('convertToInteractive',\n",
              "                                                    [key], {});\n",
              "        if (!dataTable) return;\n",
              "\n",
              "        const docLinkHtml = 'Like what you see? Visit the ' +\n",
              "          '<a target=\"_blank\" href=https://colab.research.google.com/notebooks/data_table.ipynb>data table notebook</a>'\n",
              "          + ' to learn more about interactive tables.';\n",
              "        element.innerHTML = '';\n",
              "        dataTable['output_type'] = 'display_data';\n",
              "        await google.colab.output.renderOutput(dataTable, element);\n",
              "        const docLink = document.createElement('div');\n",
              "        docLink.innerHTML = docLinkHtml;\n",
              "        element.appendChild(docLink);\n",
              "      }\n",
              "    </script>\n",
              "  </div>\n",
              "\n",
              "\n",
              "<div id=\"df-b97f3cf9-c59b-42ca-9cc2-f7e7bd486618\">\n",
              "  <button class=\"colab-df-quickchart\" onclick=\"quickchart('df-b97f3cf9-c59b-42ca-9cc2-f7e7bd486618')\"\n",
              "            title=\"Suggest charts\"\n",
              "            style=\"display:none;\">\n",
              "\n",
              "<svg xmlns=\"http://www.w3.org/2000/svg\" height=\"24px\"viewBox=\"0 0 24 24\"\n",
              "     width=\"24px\">\n",
              "    <g>\n",
              "        <path d=\"M19 3H5c-1.1 0-2 .9-2 2v14c0 1.1.9 2 2 2h14c1.1 0 2-.9 2-2V5c0-1.1-.9-2-2-2zM9 17H7v-7h2v7zm4 0h-2V7h2v10zm4 0h-2v-4h2v4z\"/>\n",
              "    </g>\n",
              "</svg>\n",
              "  </button>\n",
              "\n",
              "<style>\n",
              "  .colab-df-quickchart {\n",
              "      --bg-color: #E8F0FE;\n",
              "      --fill-color: #1967D2;\n",
              "      --hover-bg-color: #E2EBFA;\n",
              "      --hover-fill-color: #174EA6;\n",
              "      --disabled-fill-color: #AAA;\n",
              "      --disabled-bg-color: #DDD;\n",
              "  }\n",
              "\n",
              "  [theme=dark] .colab-df-quickchart {\n",
              "      --bg-color: #3B4455;\n",
              "      --fill-color: #D2E3FC;\n",
              "      --hover-bg-color: #434B5C;\n",
              "      --hover-fill-color: #FFFFFF;\n",
              "      --disabled-bg-color: #3B4455;\n",
              "      --disabled-fill-color: #666;\n",
              "  }\n",
              "\n",
              "  .colab-df-quickchart {\n",
              "    background-color: var(--bg-color);\n",
              "    border: none;\n",
              "    border-radius: 50%;\n",
              "    cursor: pointer;\n",
              "    display: none;\n",
              "    fill: var(--fill-color);\n",
              "    height: 32px;\n",
              "    padding: 0;\n",
              "    width: 32px;\n",
              "  }\n",
              "\n",
              "  .colab-df-quickchart:hover {\n",
              "    background-color: var(--hover-bg-color);\n",
              "    box-shadow: 0 1px 2px rgba(60, 64, 67, 0.3), 0 1px 3px 1px rgba(60, 64, 67, 0.15);\n",
              "    fill: var(--button-hover-fill-color);\n",
              "  }\n",
              "\n",
              "  .colab-df-quickchart-complete:disabled,\n",
              "  .colab-df-quickchart-complete:disabled:hover {\n",
              "    background-color: var(--disabled-bg-color);\n",
              "    fill: var(--disabled-fill-color);\n",
              "    box-shadow: none;\n",
              "  }\n",
              "\n",
              "  .colab-df-spinner {\n",
              "    border: 2px solid var(--fill-color);\n",
              "    border-color: transparent;\n",
              "    border-bottom-color: var(--fill-color);\n",
              "    animation:\n",
              "      spin 1s steps(1) infinite;\n",
              "  }\n",
              "\n",
              "  @keyframes spin {\n",
              "    0% {\n",
              "      border-color: transparent;\n",
              "      border-bottom-color: var(--fill-color);\n",
              "      border-left-color: var(--fill-color);\n",
              "    }\n",
              "    20% {\n",
              "      border-color: transparent;\n",
              "      border-left-color: var(--fill-color);\n",
              "      border-top-color: var(--fill-color);\n",
              "    }\n",
              "    30% {\n",
              "      border-color: transparent;\n",
              "      border-left-color: var(--fill-color);\n",
              "      border-top-color: var(--fill-color);\n",
              "      border-right-color: var(--fill-color);\n",
              "    }\n",
              "    40% {\n",
              "      border-color: transparent;\n",
              "      border-right-color: var(--fill-color);\n",
              "      border-top-color: var(--fill-color);\n",
              "    }\n",
              "    60% {\n",
              "      border-color: transparent;\n",
              "      border-right-color: var(--fill-color);\n",
              "    }\n",
              "    80% {\n",
              "      border-color: transparent;\n",
              "      border-right-color: var(--fill-color);\n",
              "      border-bottom-color: var(--fill-color);\n",
              "    }\n",
              "    90% {\n",
              "      border-color: transparent;\n",
              "      border-bottom-color: var(--fill-color);\n",
              "    }\n",
              "  }\n",
              "</style>\n",
              "\n",
              "  <script>\n",
              "    async function quickchart(key) {\n",
              "      const quickchartButtonEl =\n",
              "        document.querySelector('#' + key + ' button');\n",
              "      quickchartButtonEl.disabled = true;  // To prevent multiple clicks.\n",
              "      quickchartButtonEl.classList.add('colab-df-spinner');\n",
              "      try {\n",
              "        const charts = await google.colab.kernel.invokeFunction(\n",
              "            'suggestCharts', [key], {});\n",
              "      } catch (error) {\n",
              "        console.error('Error during call to suggestCharts:', error);\n",
              "      }\n",
              "      quickchartButtonEl.classList.remove('colab-df-spinner');\n",
              "      quickchartButtonEl.classList.add('colab-df-quickchart-complete');\n",
              "    }\n",
              "    (() => {\n",
              "      let quickchartButtonEl =\n",
              "        document.querySelector('#df-b97f3cf9-c59b-42ca-9cc2-f7e7bd486618 button');\n",
              "      quickchartButtonEl.style.display =\n",
              "        google.colab.kernel.accessAllowed ? 'block' : 'none';\n",
              "    })();\n",
              "  </script>\n",
              "</div>\n",
              "    </div>\n",
              "  </div>\n"
            ],
            "application/vnd.google.colaboratory.intrinsic+json": {
              "type": "dataframe",
              "variable_name": "df",
              "summary": "{\n  \"name\": \"df\",\n  \"rows\": 17073,\n  \"fields\": [\n    {\n      \"column\": \"train_id\",\n      \"properties\": {\n        \"dtype\": \"category\",\n        \"num_unique_values\": 1210,\n        \"samples\": [\n          \"4010\",\n          \"1289B\",\n          \"1002C\"\n        ],\n        \"semantic_type\": \"\",\n        \"description\": \"\"\n      }\n    },\n    {\n      \"column\": \"train_name\",\n      \"properties\": {\n        \"dtype\": \"category\",\n        \"num_unique_values\": 6,\n        \"samples\": [\n          \"COMMUTER LINE TANJUNGPRIUK\",\n          \"COMMUTER LINE CIKARANG\",\n          \"COMMUTER LINE RANGKASBITUNG\"\n        ],\n        \"semantic_type\": \"\",\n        \"description\": \"\"\n      }\n    },\n    {\n      \"column\": \"route_name\",\n      \"properties\": {\n        \"dtype\": \"category\",\n        \"num_unique_values\": 63,\n        \"samples\": [\n          \"CIKARANG-BEKASI\",\n          \"TANAHABANG-MANGGARAI\",\n          \"JAKARTAKOTA-TANJUNGPRIUK\"\n        ],\n        \"semantic_type\": \"\",\n        \"description\": \"\"\n      }\n    },\n    {\n      \"column\": \"station_destination_name\",\n      \"properties\": {\n        \"dtype\": \"category\",\n        \"num_unique_values\": 19,\n        \"samples\": [\n          \"TANJUNGPRIUK\",\n          \"TAMBUN\",\n          \"TANGERANG\"\n        ],\n        \"semantic_type\": \"\",\n        \"description\": \"\"\n      }\n    },\n    {\n      \"column\": \"departure_time_utc7\",\n      \"properties\": {\n        \"dtype\": \"object\",\n        \"num_unique_values\": 1216,\n        \"samples\": [\n          \"17:43:00\",\n          \"03:40:00\",\n          \"13:37:00\"\n        ],\n        \"semantic_type\": \"\",\n        \"description\": \"\"\n      }\n    },\n    {\n      \"column\": \"color\",\n      \"properties\": {\n        \"dtype\": \"category\",\n        \"num_unique_values\": 6,\n        \"samples\": [\n          \"#DD0067\",\n          \"#0084D8\",\n          \"#F76114\"\n        ],\n        \"semantic_type\": \"\",\n        \"description\": \"\"\n      }\n    },\n    {\n      \"column\": \"destination_time_utc7\",\n      \"properties\": {\n        \"dtype\": \"object\",\n        \"num_unique_values\": 807,\n        \"samples\": [\n          \"12:37:00\",\n          \"07:35:00\",\n          \"21:54:00\"\n        ],\n        \"semantic_type\": \"\",\n        \"description\": \"\"\n      }\n    },\n    {\n      \"column\": \"station_departure_name\",\n      \"properties\": {\n        \"dtype\": \"category\",\n        \"num_unique_values\": 81,\n        \"samples\": [\n          \"KLENDER BARU\",\n          \"ANCOL\",\n          \"JAYAKARTA\"\n        ],\n        \"semantic_type\": \"\",\n        \"description\": \"\"\n      }\n    },\n    {\n      \"column\": \"station_departure_id\",\n      \"properties\": {\n        \"dtype\": \"category\",\n        \"num_unique_values\": 81,\n        \"samples\": [\n          \"KLDB\",\n          \"AC\",\n          \"JAY\"\n        ],\n        \"semantic_type\": \"\",\n        \"description\": \"\"\n      }\n    },\n    {\n      \"column\": \"station_destination_id\",\n      \"properties\": {\n        \"dtype\": \"category\",\n        \"num_unique_values\": 19,\n        \"samples\": [\n          \"TPK\",\n          \"TB\",\n          \"TNG\"\n        ],\n        \"semantic_type\": \"\",\n        \"description\": \"\"\n      }\n    }\n  ]\n}"
            }
          },
          "metadata": {},
          "execution_count": 60
        }
      ]
    },
    {
      "cell_type": "code",
      "source": [
        "df.info()"
      ],
      "metadata": {
        "colab": {
          "base_uri": "https://localhost:8080/"
        },
        "id": "TbzKZTXmPyJ7",
        "outputId": "8f726e2b-86f1-4e37-f15e-165e999efbc5"
      },
      "execution_count": 61,
      "outputs": [
        {
          "output_type": "stream",
          "name": "stdout",
          "text": [
            "<class 'pandas.core.frame.DataFrame'>\n",
            "Int64Index: 17073 entries, 0 to 17072\n",
            "Data columns (total 10 columns):\n",
            " #   Column                    Non-Null Count  Dtype \n",
            "---  ------                    --------------  ----- \n",
            " 0   train_id                  17073 non-null  object\n",
            " 1   train_name                17073 non-null  object\n",
            " 2   route_name                17073 non-null  object\n",
            " 3   station_destination_name  17073 non-null  object\n",
            " 4   departure_time_utc7       17073 non-null  object\n",
            " 5   color                     17073 non-null  object\n",
            " 6   destination_time_utc7     17073 non-null  object\n",
            " 7   station_departure_name    17073 non-null  object\n",
            " 8   station_departure_id      17073 non-null  object\n",
            " 9   station_destination_id    17073 non-null  object\n",
            "dtypes: object(10)\n",
            "memory usage: 1.9+ MB\n"
          ]
        }
      ]
    },
    {
      "cell_type": "markdown",
      "source": [
        "## Export Data"
      ],
      "metadata": {
        "id": "NaG04SG_ZOOW"
      }
    },
    {
      "cell_type": "markdown",
      "source": [
        "Since I'm using Google Colab, I store the data on my Google Drive. Feel free to modify this anyway."
      ],
      "metadata": {
        "id": "JBudjl4UbBbT"
      }
    },
    {
      "cell_type": "code",
      "source": [
        "df.to_csv('/content/drive/My Drive/commuter_line_schedule.csv', index=False)"
      ],
      "metadata": {
        "id": "iJtTzVaRTSTI"
      },
      "execution_count": 62,
      "outputs": []
    }
  ],
  "metadata": {
    "colab": {
      "provenance": []
    },
    "kernelspec": {
      "display_name": "Python 3 (ipykernel)",
      "language": "python",
      "name": "python3"
    },
    "language_info": {
      "codemirror_mode": {
        "name": "ipython",
        "version": 3
      },
      "file_extension": ".py",
      "mimetype": "text/x-python",
      "name": "python",
      "nbconvert_exporter": "python",
      "pygments_lexer": "ipython3",
      "version": "3.10.1"
    }
  },
  "nbformat": 4,
  "nbformat_minor": 0
}